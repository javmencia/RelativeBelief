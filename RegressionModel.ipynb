{
  "nbformat": 4,
  "nbformat_minor": 0,
  "metadata": {
    "colab": {
      "provenance": [],
      "authorship_tag": "ABX9TyOBZRIvwphBu6b1kHxuOxnZ",
      "include_colab_link": true
    },
    "kernelspec": {
      "name": "python3",
      "display_name": "Python 3"
    },
    "language_info": {
      "name": "python"
    }
  },
  "cells": [
    {
      "cell_type": "markdown",
      "metadata": {
        "id": "view-in-github",
        "colab_type": "text"
      },
      "source": [
        "<a href=\"https://colab.research.google.com/github/javmencia/RelativeBelief/blob/BiasCalculations/RegressionModel.ipynb\" target=\"_parent\"><img src=\"https://colab.research.google.com/assets/colab-badge.svg\" alt=\"Open In Colab\"/></a>"
      ]
    },
    {
      "cell_type": "code",
      "execution_count": 2,
      "metadata": {
        "id": "2_MYYByQHc0Y"
      },
      "outputs": [],
      "source": [
        "import numpy as np\n",
        "import pymc as pm\n",
        "import arviz as az\n",
        "import matplotlib.pyplot as plt\n",
        "from scipy.ndimage import gaussian_filter1d\n",
        "from scipy.special import gammaln\n",
        "from scipy import stats\n",
        "import time\n",
        "import math"
      ]
    },
    {
      "cell_type": "code",
      "source": [
        "import pymc as pm\n",
        "import numpy as np\n",
        "\n",
        "def normal_logp(x, mu, sigma):\n",
        "    return -0.5 * ((x - mu) / sigma) ** 2 - pm.math.log(sigma) - 0.5 * pm.math.log(2 * np.pi)\n",
        "\n",
        "# Define parameters\n",
        "\n",
        "# For x\n",
        "mu_prior_mean = 0\n",
        "mu_prior_sigma = 1\n",
        "\n",
        "\n",
        "n = 50\n",
        "p = 2\n",
        "mu_0 = 0\n",
        "\n",
        "# Design matrix X\n",
        "X = np.random.normal(size=(n, p))\n",
        "\n",
        "# For beta\n",
        "beta_mu_0 = np.zeros(p)\n",
        "beta_cov_0 = np.eye(p)\n",
        "\n",
        "# For sigma\n",
        "sigma_mu_0 = 1\n",
        "sigma_sigma_0 = 1\n",
        "\n",
        "y_0 = np.ones(n)\n",
        "\n",
        "with pm.Model() as m:\n",
        "\n",
        "    # Priors\n",
        "    mu_ = pm.Normal('mu_', mu=mu_prior_mean, sigma=mu_prior_sigma, shape=1)\n",
        "    x_ = pm.Normal('x_', mu=mu_0, sigma=1, shape=n)\n",
        "\n",
        "    beta = pm.MvNormal(\"beta\", mu=beta_mu_0, cov=beta_cov_0, shape=p)\n",
        "    sigma = pm.TruncatedNormal(\"sigma\", mu=sigma_mu_0, sigma=sigma_sigma_0, lower=0)\n",
        "\n",
        "    # Likelihood\n",
        "    y = pm.Normal('y', mu=pm.math.dot(X, beta), sigma=sigma)\n",
        "\n",
        "    # Prior predictive densities\n",
        "    prior_beta = pm.Deterministic(\"prior_beta\", pm.logp(pm.MvNormal.dist(mu=beta_mu_0, cov=beta_cov_0, shape=p), beta))\n",
        "    prior_sigma = pm.Deterministic(\"prior_sigma\", pm.logp(pm.TruncatedNormal.dist(mu=sigma_mu_0, sigma=sigma_sigma_0, lower=0), sigma))\n",
        "    prior_y = pm.Deterministic(\"prior_y\", pm.logp(pm.Normal.dist(mu=pm.math.dot(X, beta_mu_0), sigma=sigma_mu_0), y_0))\n",
        "\n",
        "    # Posterior predictive densities\n",
        "    posterior_y = pm.Deterministic(\"posterior_y\", pm.logp(pm.Normal.dist(mu=pm.math.dot(X, beta), sigma=sigma), y_0))\n",
        "\n",
        "    logBR_prior_pd = pm.Deterministic(\"logBR_prior_pd\", posterior_y - prior_y)\n",
        "\n",
        "    \"\"\"\n",
        "    # prior predictive data density evaluations\n",
        "    prior_prior_pd = pm.Deterministic(\"prior_prior_pd\", normal_logp(mu_0,0,1))\n",
        "\n",
        "    posterior_var = 1/(1/mu_prior_sigma**2 + n/1)\n",
        "    posterior_mean = (mu_prior_mean/mu_prior_sigma**2 + x_.sum()/1)*posterior_var\n",
        "    posterior_prior_pd = pm.Deterministic(\"posterior_prior_pd\",\n",
        "                                          normal_logp(mu_0, posterior_mean, posterior_var**0.5))\n",
        "    logBR_prior_pd = pm.Deterministic(\"logBR_prior_pd\", posterior_prior_pd-prior_prior_pd) # pm.math.exp()\n",
        "\n",
        "    likelihood_prior_pd = pm.Deterministic(\"likelihood_prior_pd\", normal_logp(x_,mu_0,1).sum())\"\"\"\n",
        "\n",
        "with m:\n",
        "    idata = pm.sample(draws=1000)"
      ],
      "metadata": {
        "colab": {
          "base_uri": "https://localhost:8080/",
          "height": 57
        },
        "id": "dyznq_cdHeNy",
        "outputId": "57376a52-75a7-454f-a5aa-d255f15e83ac"
      },
      "execution_count": 6,
      "outputs": [
        {
          "output_type": "display_data",
          "data": {
            "text/plain": [
              "<IPython.core.display.HTML object>"
            ],
            "text/html": [
              "\n",
              "<style>\n",
              "    /* Turns off some styling */\n",
              "    progress {\n",
              "        /* gets rid of default border in Firefox and Opera. */\n",
              "        border: none;\n",
              "        /* Needs to be in here for Safari polyfill so background images work as expected. */\n",
              "        background-size: auto;\n",
              "    }\n",
              "    progress:not([value]), progress:not([value])::-webkit-progress-bar {\n",
              "        background: repeating-linear-gradient(45deg, #7e7e7e, #7e7e7e 10px, #5c5c5c 10px, #5c5c5c 20px);\n",
              "    }\n",
              "    .progress-bar-interrupted, .progress-bar-interrupted::-webkit-progress-bar {\n",
              "        background: #F44336;\n",
              "    }\n",
              "</style>\n"
            ]
          },
          "metadata": {}
        },
        {
          "output_type": "display_data",
          "data": {
            "text/plain": [
              "<IPython.core.display.HTML object>"
            ],
            "text/html": [
              "\n",
              "    <div>\n",
              "      <progress value='2000' class='' max='2000' style='width:300px; height:20px; vertical-align: middle;'></progress>\n",
              "      100.00% [2000/2000 00:27&lt;00:00 Sampling chain 0, 16 divergences]\n",
              "    </div>\n",
              "    "
            ]
          },
          "metadata": {}
        },
        {
          "output_type": "display_data",
          "data": {
            "text/plain": [
              "<IPython.core.display.HTML object>"
            ],
            "text/html": [
              "\n",
              "<style>\n",
              "    /* Turns off some styling */\n",
              "    progress {\n",
              "        /* gets rid of default border in Firefox and Opera. */\n",
              "        border: none;\n",
              "        /* Needs to be in here for Safari polyfill so background images work as expected. */\n",
              "        background-size: auto;\n",
              "    }\n",
              "    progress:not([value]), progress:not([value])::-webkit-progress-bar {\n",
              "        background: repeating-linear-gradient(45deg, #7e7e7e, #7e7e7e 10px, #5c5c5c 10px, #5c5c5c 20px);\n",
              "    }\n",
              "    .progress-bar-interrupted, .progress-bar-interrupted::-webkit-progress-bar {\n",
              "        background: #F44336;\n",
              "    }\n",
              "</style>\n"
            ]
          },
          "metadata": {}
        },
        {
          "output_type": "display_data",
          "data": {
            "text/plain": [
              "<IPython.core.display.HTML object>"
            ],
            "text/html": [
              "\n",
              "    <div>\n",
              "      <progress value='2000' class='' max='2000' style='width:300px; height:20px; vertical-align: middle;'></progress>\n",
              "      100.00% [2000/2000 00:37&lt;00:00 Sampling chain 1, 61 divergences]\n",
              "    </div>\n",
              "    "
            ]
          },
          "metadata": {}
        }
      ]
    },
    {
      "cell_type": "code",
      "source": [
        "# Calculate the bias against the prior hypothesis\n",
        "bias_against = idata.posterior[\"logBR_prior_pd\"].values.ravel() <= 0\n",
        "t = bias_against.shape[0]\n",
        "burn = 1000\n",
        "bias_against_mci = bias_against.cumsum() / np.arange(1, t+1)\n",
        "\n",
        "plt.plot(bias_against_mci[burn:], label='Bias Against (Analytical)')\n"
      ],
      "metadata": {
        "colab": {
          "base_uri": "https://localhost:8080/",
          "height": 447
        },
        "id": "u_K1lmIcMv4W",
        "outputId": "29a07ca9-61d2-4e28-8b6c-a9b4c719cd02"
      },
      "execution_count": 7,
      "outputs": [
        {
          "output_type": "execute_result",
          "data": {
            "text/plain": [
              "[<matplotlib.lines.Line2D at 0x7d4f7e2308b0>]"
            ]
          },
          "metadata": {},
          "execution_count": 7
        },
        {
          "output_type": "display_data",
          "data": {
            "text/plain": [
              "<Figure size 640x480 with 1 Axes>"
            ],
            "image/png": "[encoded data removed]"
          },
          "metadata": {}
        }
      ]
    }
  ]
}