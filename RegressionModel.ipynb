{
  "nbformat": 4,
  "nbformat_minor": 0,
  "metadata": {
    "colab": {
      "provenance": [],
      "authorship_tag": "ABX9TyNaXBu9vsGIwDkn9r+Hq69p",
      "include_colab_link": true
    },
    "kernelspec": {
      "name": "python3",
      "display_name": "Python 3"
    },
    "language_info": {
      "name": "python"
    }
  },
  "cells": [
    {
      "cell_type": "markdown",
      "metadata": {
        "id": "view-in-github",
        "colab_type": "text"
      },
      "source": [
        "<a href=\"https://colab.research.google.com/github/javmencia/RelativeBelief/blob/BiasCalculations/RegressionModel.ipynb\" target=\"_parent\"><img src=\"https://colab.research.google.com/assets/colab-badge.svg\" alt=\"Open In Colab\"/></a>"
      ]
    },
    {
      "cell_type": "code",
      "execution_count": 4,
      "metadata": {
        "id": "2_MYYByQHc0Y"
      },
      "outputs": [],
      "source": [
        "import numpy as np\n",
        "import pymc as pm\n",
        "import arviz as az\n",
        "import matplotlib.pyplot as plt\n",
        "from scipy.ndimage import gaussian_filter1d\n",
        "from scipy.special import gammaln\n",
        "from scipy import stats\n",
        "import time\n",
        "import math\n",
        "\n",
        "def normal_logp_np(x, mu, sigma):\n",
        "    return -0.5 * ((x - mu) / sigma) ** 2 - np.log(sigma) - 0.5 * np.log(2 * np.pi)"
      ]
    },
    {
      "cell_type": "markdown",
      "source": [
        "USING BETAS FROM 365"
      ],
      "metadata": {
        "id": "dtIVm-zmyipp"
      }
    },
    {
      "cell_type": "code",
      "source": [
        "import numpy as np\n",
        "import pymc as pm\n",
        "import arviz as az\n",
        "\n",
        "\n",
        "\n",
        "# COV = sigma^2 x Identity\n",
        "# Define prior parameters\n",
        "mu_prior_mean = 0\n",
        "mu_prior_sigma = 1\n",
        "\n",
        "sigma_prior_mu = 1\n",
        "sigma_prior_sigma = 1\n",
        "\n",
        "n = 50  # Number of observations\n",
        "p = 2   # Number of covariates\n",
        "\n",
        "# Design matrix X\n",
        "X = np.random.normal(size=(n, p))\n",
        "\n",
        "# Ground truth parameters for generating data\n",
        "true_beta = np.array([1, 2])\n",
        "true_sigma = 1\n",
        "\n",
        "# Generate response variable y\n",
        "y = np.dot(X, true_beta) + np.random.normal(0, true_sigma, n)\n",
        "\n",
        "def normal_logp(x, mu, sigma):\n",
        "    return -0.5 * np.log(2 * np.pi * sigma**2) - 0.5 * ((x - mu)**2 / sigma**2)\n",
        "\n",
        "with pm.Model() as model:\n",
        "    # Priors\n",
        "    beta = pm.Normal('beta', mu=mu_prior_mean, sigma=mu_prior_sigma, shape=p)\n",
        "    sigma = pm.TruncatedNormal(\"sigma\", mu=sigma_prior_mu, sigma=sigma_prior_sigma, lower=0)\n",
        "\n",
        "    # Likelihoods\n",
        "    mu = pm.math.dot(X, beta)\n",
        "    y_ = pm.MvNormal('y_', mu=mu, cov = sigma * np.eye(n), shape = p)\n",
        "\n",
        "    # Prior\n",
        "    prior_beta = pm.Deterministic(\"prior_prior_pd\", pm.logp(pm.Normal.dist(mu=mu_prior_mean, sigma=mu_prior_sigma, shape=p), beta))\n",
        "\n",
        "    # Posterior\n",
        "    # Calculate posterior mean and covariance for beta\n",
        "    X_transpose = X.T\n",
        "    Sigma_inv = np.eye(n) / true_sigma**2  # Assuming true_sigma for illustration\n",
        "    cov_beta_post = np.linalg.inv(np.dot(X_transpose, np.dot(Sigma_inv, X)))\n",
        "    mean_beta_post = np.dot(cov_beta_post, np.dot(X_transpose, np.dot(Sigma_inv, y)))\n",
        "    posterior_beta = pm.Deterministic(\"posterior_beta\", pm.logp(pm.MvNormal.dist(mu=mean_beta_post, cov=cov_beta_post, shape=p), beta))\n",
        "\n",
        "\n",
        "    # Log BR\n",
        "    logRB_prior_pd = pm.Deterministic(\"logRB_prior_pd\", posterior_beta - prior_beta)\n",
        "\n",
        "    # Likelihood\n",
        "    likelihood_prior_pd = pm.Deterministic(\"likelihood_prior_pd\", normal_logp(y_, mu, sigma).sum())\n",
        "\n",
        "    # Sampling\n",
        "    idata = pm.sample(draws=1000, tune=1000)\n",
        "\n",
        "# Analyze the results\n",
        "# az.summary(idata)\n"
      ],
      "metadata": {
        "colab": {
          "base_uri": "https://localhost:8080/",
          "height": 57
        },
        "id": "5DLMvCLWyfz6",
        "outputId": "4e4d098f-bd8e-4f29-a36a-d15388bfa94d"
      },
      "execution_count": null,
      "outputs": [
        {
          "output_type": "display_data",
          "data": {
            "text/plain": [
              "<IPython.core.display.HTML object>"
            ],
            "text/html": [
              "\n",
              "<style>\n",
              "    /* Turns off some styling */\n",
              "    progress {\n",
              "        /* gets rid of default border in Firefox and Opera. */\n",
              "        border: none;\n",
              "        /* Needs to be in here for Safari polyfill so background images work as expected. */\n",
              "        background-size: auto;\n",
              "    }\n",
              "    progress:not([value]), progress:not([value])::-webkit-progress-bar {\n",
              "        background: repeating-linear-gradient(45deg, #7e7e7e, #7e7e7e 10px, #5c5c5c 10px, #5c5c5c 20px);\n",
              "    }\n",
              "    .progress-bar-interrupted, .progress-bar-interrupted::-webkit-progress-bar {\n",
              "        background: #F44336;\n",
              "    }\n",
              "</style>\n"
            ]
          },
          "metadata": {}
        },
        {
          "output_type": "display_data",
          "data": {
            "text/plain": [
              "<IPython.core.display.HTML object>"
            ],
            "text/html": [
              "\n",
              "    <div>\n",
              "      <progress value='2000' class='' max='2000' style='width:300px; height:20px; vertical-align: middle;'></progress>\n",
              "      100.00% [2000/2000 00:08&lt;00:00 Sampling chain 0, 441 divergences]\n",
              "    </div>\n",
              "    "
            ]
          },
          "metadata": {}
        },
        {
          "output_type": "display_data",
          "data": {
            "text/plain": [
              "<IPython.core.display.HTML object>"
            ],
            "text/html": [
              "\n",
              "<style>\n",
              "    /* Turns off some styling */\n",
              "    progress {\n",
              "        /* gets rid of default border in Firefox and Opera. */\n",
              "        border: none;\n",
              "        /* Needs to be in here for Safari polyfill so background images work as expected. */\n",
              "        background-size: auto;\n",
              "    }\n",
              "    progress:not([value]), progress:not([value])::-webkit-progress-bar {\n",
              "        background: repeating-linear-gradient(45deg, #7e7e7e, #7e7e7e 10px, #5c5c5c 10px, #5c5c5c 20px);\n",
              "    }\n",
              "    .progress-bar-interrupted, .progress-bar-interrupted::-webkit-progress-bar {\n",
              "        background: #F44336;\n",
              "    }\n",
              "</style>\n"
            ]
          },
          "metadata": {}
        },
        {
          "output_type": "display_data",
          "data": {
            "text/plain": [
              "<IPython.core.display.HTML object>"
            ],
            "text/html": [
              "\n",
              "    <div>\n",
              "      <progress value='2000' class='' max='2000' style='width:300px; height:20px; vertical-align: middle;'></progress>\n",
              "      100.00% [2000/2000 00:25&lt;00:00 Sampling chain 1, 42 divergences]\n",
              "    </div>\n",
              "    "
            ]
          },
          "metadata": {}
        }
      ]
    },
    {
      "cell_type": "code",
      "source": [
        "# Calculate the bias against the prior hypothesis\n",
        "bias_against = idata.posterior[\"logBR_prior_pd\"].values.ravel() <= 0\n",
        "t = bias_against.shape[0]\n",
        "burn = 1000\n",
        "bias_against_mci = bias_against.cumsum() / np.arange(1, t+1)\n",
        "\n",
        "# Extract posterior samples for simulation\n",
        "beta_samples = idata.posterior['beta'][:, :, 0].values.ravel()[:1000]  # Use 1000 samples\n",
        "x_samples = idata.posterior['x_'].values  # Shape (chains, draws, n)\n",
        "\n",
        "# Compute log likelihoods for all samples at once\n",
        "marginal_likelihoods = normal_logp_np(x_samples[:, :, :, np.newaxis], beta_samples, 1).sum(axis=2)\n",
        "\n",
        "# Average the likelihoods over the samples\n",
        "log_marginal_likelihoods = np.log(np.exp(marginal_likelihoods).mean(axis=-1)).ravel()\n",
        "\n",
        "# Compute biases\n",
        "likelihood_prior_pd = idata.posterior['likelihood_prior_pd'].values.ravel()\n",
        "\n",
        "bias_against_ml = (likelihood_prior_pd - log_marginal_likelihoods) <= 0\n",
        "\n",
        "bias_against_ml_mci = bias_against_ml.cumsum() / np.arange(1, len(bias_against_ml) + 1)\n",
        "\n",
        "plt.plot(bias_against_mci[burn:], label='Bias Against (Analytical)')\n",
        "plt.plot(bias_against_ml_mci[burn:], label='Bias Against (Simulation)')\n",
        "plt.title(\"Hypothesis: Bias Against n={}\".format(n))\n",
        "plt.legend()\n",
        "plt.show()"
      ],
      "metadata": {
        "colab": {
          "base_uri": "https://localhost:8080/",
          "height": 452
        },
        "id": "a3QM0tv0D0ao",
        "outputId": "f40afbde-22b9-4c3b-b686-03469490b4e9"
      },
      "execution_count": null,
      "outputs": [
        {
          "output_type": "display_data",
          "data": {
            "text/plain": [
              "<Figure size 640x480 with 1 Axes>"
            ],
            "image/png": "[encoded data removed]"
          },
          "metadata": {}
        }
      ]
    },
    {
      "cell_type": "markdown",
      "source": [],
      "metadata": {
        "id": "5CSY3m9WKAOr"
      }
    },
    {
      "cell_type": "code",
      "source": [
        "import numpy as np\n",
        "import pymc as pm\n",
        "import arviz as az\n",
        "\n",
        "\n",
        "\n",
        "# COV = sigma^2 x Identity\n",
        "# Define prior parameters\n",
        "mu_prior_mean = 0\n",
        "mu_prior_sigma = 1\n",
        "\n",
        "sigma_prior_mu = 1\n",
        "sigma_prior_sigma = 1\n",
        "\n",
        "n = 50  # Number of observations\n",
        "p = 2   # Number of covariates\n",
        "\n",
        "# Design matrix X\n",
        "X = np.random.normal(size=(n, p))\n",
        "\n",
        "# Ground truth parameters for generating data\n",
        "true_beta = np.array([1, 2])\n",
        "true_sigma = 1\n",
        "\n",
        "# Generate response variable y\n",
        "y = np.dot(X, true_beta) + np.random.normal(0, true_sigma, n)\n",
        "\n",
        "def normal_logp(x, mu, sigma):\n",
        "    return -0.5 * np.log(2 * np.pi * sigma**2) - 0.5 * ((x - mu)**2 / sigma**2)\n",
        "\n",
        "with pm.Model() as model:\n",
        "    # Priors\n",
        "    beta = pm.Normal('beta', mu=mu_prior_mean, sigma=mu_prior_sigma, shape=p)\n",
        "    sigma = pm.TruncatedNormal(\"sigma\", mu=sigma_prior_mu, sigma=sigma_prior_sigma, lower=0)\n",
        "\n",
        "    # Likelihoods\n",
        "    mu = pm.math.dot(X, beta)\n",
        "    y_ = pm.MvNormal('y_', mu=mu, cov = sigma * np.eye(n), shape = p)\n",
        "\n",
        "    # Prior\n",
        "    prior_beta = pm.Deterministic(\"prior_prior_pd\", pm.logp(pm.Normal.dist(mu=mu_prior_mean, sigma=mu_prior_sigma, shape=p), beta))\n",
        "\n",
        "    # Posterior\n",
        "    # Calculate posterior mean and covariance for beta\n",
        "    X_transpose = X.T\n",
        "    Sigma_inv = np.eye(n) / true_sigma**2\n",
        "    Sigma_beta_inv = np.eye(p) / sigma_prior_sigma**2\n",
        "    print(Sigma_beta_inv.shape)\n",
        "    print(np.linalg.inv(np.dot(X_transpose, np.dot(Sigma_inv, X))).shape)\n",
        "\n",
        "    cov_beta_post = np.linalg.inv(np.dot(X_transpose, np.dot(Sigma_inv, X))) #+ Sigma_beta_inv\n",
        "    mean_beta_post = np.dot(cov_beta_post, np.dot(X_transpose, np.dot(Sigma_inv, y)) )# + Sigma_beta_inv * true_beta)\n",
        "    posterior_beta = pm.Deterministic(\"posterior_beta\", pm.logp(pm.MvNormal.dist(mu=mean_beta_post, cov=cov_beta_post, shape=p), beta))\n",
        "\n",
        "\n",
        "    # Log BR\n",
        "    logRB_prior_pd = pm.Deterministic(\"logRB_prior_pd\", posterior_beta - prior_beta)\n",
        "\n",
        "    # Likelihood\n",
        "    likelihood_prior_pd = pm.Deterministic(\"likelihood_prior_pd\", normal_logp(y_, mu, sigma).sum())\n",
        "\n",
        "    # Sampling\n",
        "    idata = pm.sample(draws=1000, tune=1000)\n",
        "\n",
        "# Analyze the results\n",
        "# az.summary(idata)\n"
      ],
      "metadata": {
        "colab": {
          "base_uri": "https://localhost:8080/",
          "height": 92
        },
        "id": "MKq8ZDG3J_77",
        "outputId": "cfde5d31-1ad7-45c7-d3ba-66b692338960"
      },
      "execution_count": 1,
      "outputs": [
        {
          "output_type": "stream",
          "name": "stdout",
          "text": [
            "(2, 2)\n",
            "(2, 2)\n"
          ]
        },
        {
          "output_type": "display_data",
          "data": {
            "text/plain": [
              "<IPython.core.display.HTML object>"
            ],
            "text/html": [
              "\n",
              "<style>\n",
              "    /* Turns off some styling */\n",
              "    progress {\n",
              "        /* gets rid of default border in Firefox and Opera. */\n",
              "        border: none;\n",
              "        /* Needs to be in here for Safari polyfill so background images work as expected. */\n",
              "        background-size: auto;\n",
              "    }\n",
              "    progress:not([value]), progress:not([value])::-webkit-progress-bar {\n",
              "        background: repeating-linear-gradient(45deg, #7e7e7e, #7e7e7e 10px, #5c5c5c 10px, #5c5c5c 20px);\n",
              "    }\n",
              "    .progress-bar-interrupted, .progress-bar-interrupted::-webkit-progress-bar {\n",
              "        background: #F44336;\n",
              "    }\n",
              "</style>\n"
            ]
          },
          "metadata": {}
        },
        {
          "output_type": "display_data",
          "data": {
            "text/plain": [
              "<IPython.core.display.HTML object>"
            ],
            "text/html": [
              "\n",
              "    <div>\n",
              "      <progress value='2000' class='' max='2000' style='width:300px; height:20px; vertical-align: middle;'></progress>\n",
              "      100.00% [2000/2000 01:27&lt;00:00 Sampling chain 0, 8 divergences]\n",
              "    </div>\n",
              "    "
            ]
          },
          "metadata": {}
        },
        {
          "output_type": "display_data",
          "data": {
            "text/plain": [
              "<IPython.core.display.HTML object>"
            ],
            "text/html": [
              "\n",
              "<style>\n",
              "    /* Turns off some styling */\n",
              "    progress {\n",
              "        /* gets rid of default border in Firefox and Opera. */\n",
              "        border: none;\n",
              "        /* Needs to be in here for Safari polyfill so background images work as expected. */\n",
              "        background-size: auto;\n",
              "    }\n",
              "    progress:not([value]), progress:not([value])::-webkit-progress-bar {\n",
              "        background: repeating-linear-gradient(45deg, #7e7e7e, #7e7e7e 10px, #5c5c5c 10px, #5c5c5c 20px);\n",
              "    }\n",
              "    .progress-bar-interrupted, .progress-bar-interrupted::-webkit-progress-bar {\n",
              "        background: #F44336;\n",
              "    }\n",
              "</style>\n"
            ]
          },
          "metadata": {}
        },
        {
          "output_type": "display_data",
          "data": {
            "text/plain": [
              "<IPython.core.display.HTML object>"
            ],
            "text/html": [
              "\n",
              "    <div>\n",
              "      <progress value='2000' class='' max='2000' style='width:300px; height:20px; vertical-align: middle;'></progress>\n",
              "      100.00% [2000/2000 01:32&lt;00:00 Sampling chain 1, 5 divergences]\n",
              "    </div>\n",
              "    "
            ]
          },
          "metadata": {}
        }
      ]
    },
    {
      "cell_type": "code",
      "source": [
        "# Calculate the bias against the prior hypothesis\n",
        "bias_against = idata.posterior[\"logRB_prior_pd\"].values.ravel() <= 0\n",
        "t = bias_against.shape[0]\n",
        "burn = 1000\n",
        "bias_against_mci = bias_against.cumsum() / np.arange(1, t+1)\n",
        "\n",
        "# Extract posterior samples for simulation\n",
        "beta_samples = idata.posterior['beta'][:, :, 0].values.ravel()[:1000]  # Use 1000 samples\n",
        "x_samples = idata.posterior['y_'].values  # Shape (chains, draws, n)\n",
        "\n",
        "# Compute log likelihoods for all samples at once\n",
        "marginal_likelihoods = normal_logp_np(x_samples[:, :, :, np.newaxis], beta_samples, 1).sum(axis=2)\n",
        "\n",
        "# Average the likelihoods over the samples\n",
        "log_marginal_likelihoods = np.log(np.exp(marginal_likelihoods).mean(axis=-1)).ravel()\n",
        "\n",
        "# Compute biases\n",
        "likelihood_prior_pd = idata.posterior['likelihood_prior_pd'].values.ravel()\n",
        "\n",
        "bias_against_ml = (likelihood_prior_pd - log_marginal_likelihoods) <= 0\n",
        "\n",
        "bias_against_ml_mci = bias_against_ml.cumsum() / np.arange(1, len(bias_against_ml) + 1)\n",
        "\n",
        "plt.plot(bias_against_mci[burn:], label='Bias Against (Analytical)')\n",
        "#plt.plot(bias_against_ml_mci[burn:], label='Bias Against (Simulation)')\n",
        "plt.title(\"Hypothesis: Bias Against n={}\".format(n))\n",
        "plt.legend()\n",
        "plt.show()"
      ],
      "metadata": {
        "colab": {
          "base_uri": "https://localhost:8080/",
          "height": 452
        },
        "id": "UA92-uNe6tqE",
        "outputId": "15aa9aa0-9e75-4f7c-f30d-19e0e708c5e0"
      },
      "execution_count": 4,
      "outputs": [
        {
          "output_type": "display_data",
          "data": {
            "text/plain": [
              "<Figure size 640x480 with 1 Axes>"
            ],
            "image/png": "[encoded data removed]"
          },
          "metadata": {}
        }
      ]
    },
    {
      "cell_type": "markdown",
      "source": [
        "On y"
      ],
      "metadata": {
        "id": "8qsqqEVheuAF"
      }
    },
    {
      "cell_type": "code",
      "source": [
        "import numpy as np\n",
        "import pymc as pm\n",
        "import arviz as az\n",
        "\n",
        "\n",
        "\n",
        "# COV = sigma^2 x Identity\n",
        "# Define prior parameters\n",
        "mu_prior_mean = 0\n",
        "mu_prior_sigma = 1\n",
        "\n",
        "sigma_prior_mu = 1\n",
        "sigma_prior_sigma = 1\n",
        "\n",
        "n = 50  # Number of observations\n",
        "p = 2   # Number of covariates\n",
        "\n",
        "# Design matrix X\n",
        "X = np.random.normal(size=(n, p))\n",
        "\n",
        "# Ground truth parameters for generating data\n",
        "true_beta = np.array([1, 2])\n",
        "true_sigma = 1\n",
        "\n",
        "# Generate response variable y\n",
        "y = np.dot(X, true_beta) + np.random.normal(0, true_sigma, n)\n",
        "\n",
        "def normal_logp(x, mu, sigma):\n",
        "    return -0.5 * np.log(2 * np.pi * sigma**2) - 0.5 * ((x - mu)**2 / sigma**2)\n",
        "\n",
        "with pm.Model() as model:\n",
        "    # Priors\n",
        "    beta = pm.Normal('beta', mu=mu_prior_mean, sigma=mu_prior_sigma, shape=(p,1))\n",
        "    sigma = pm.TruncatedNormal(\"sigma\", mu=sigma_prior_mu, sigma=sigma_prior_sigma, lower=0)\n",
        "\n",
        "    # Likelihoods\n",
        "    mu = pm.math.dot(X, beta)\n",
        "    y_ = pm.Normal('y_', mu=mu, sigma = sigma)\n",
        "\n",
        "    # Prior\n",
        "    prior_beta = pm.Deterministic(\"prior_prior_pd\", pm.logp(pm.Normal.dist(mu=mu_prior_mean, sigma=mu_prior_sigma, shape=(p, 1)), beta))\n",
        "    #prior_y = pm.Deterministic(\"prior_y\", pm.logp(pm.Normal.dist(mu = pm.math.dot(X, prior_beta), sigma = true_sigma), y_))\n",
        "\n",
        "    # Posterior\n",
        "    # Calculate posterior mean and covariance for beta\n",
        "    X_transpose = X.T\n",
        "    Sigma_inv = np.eye(n) / true_sigma**2\n",
        "    Sigma_beta_inv = np.eye(p) / sigma_prior_sigma**2\n",
        "    print(Sigma_beta_inv.shape)\n",
        "    print(np.linalg.inv(np.dot(X_transpose, np.dot(Sigma_inv, X))).shape)\n",
        "\n",
        "    cov_beta_post = np.linalg.inv(np.dot(X_transpose, np.dot(Sigma_inv, X))) #+ Sigma_beta_inv\n",
        "    mean_beta_post = np.dot(cov_beta_post, np.dot(X_transpose, np.dot(Sigma_inv, y)) )# + Sigma_beta_inv * true_beta)\n",
        "    posterior_beta = pm.Deterministic(\"posterior_beta\", pm.logp(pm.MvNormal.dist(mu=mean_beta_post, cov=cov_beta_post, shape= (p, 1)), beta))\n",
        "\n",
        "    #posterior_y = pm.Deterministic(\"posterior_y\", pm.logp(pm.Normal.dist(mu=posterior_beta, sigma = sigma), y_))\n",
        "\n",
        "\n",
        "\n",
        "    # Log BR\n",
        "    logRB_prior_pd = pm.Deterministic(\"logRB_prior_pd\", posterior_beta - prior_beta)\n",
        "    logRB_prior_pdy = pm.Deterministic(\"logRB_prior_pdy\", posterior_y - y_)\n",
        "\n",
        "    # Likelihood\n",
        "    likelihood_prior_pd = pm.Deterministic(\"likelihood_prior_pd\", normal_logp(y_, mu, sigma).sum())\n",
        "\n",
        "    # Sampling\n",
        "    idata = pm.sample(draws=1000, tune=1000)\n",
        "\n",
        "# Analyze the results\n",
        "# az.summary(idata)\n"
      ],
      "metadata": {
        "colab": {
          "base_uri": "https://localhost:8080/",
          "height": 92
        },
        "id": "nJBqPbBPVb2g",
        "outputId": "90cb6e82-cabb-4aa7-f28d-c1ede4953b14"
      },
      "execution_count": 2,
      "outputs": [
        {
          "output_type": "stream",
          "name": "stdout",
          "text": [
            "(2, 2)\n",
            "(2, 2)\n"
          ]
        },
        {
          "output_type": "display_data",
          "data": {
            "text/plain": [
              "<IPython.core.display.HTML object>"
            ],
            "text/html": [
              "\n",
              "<style>\n",
              "    /* Turns off some styling */\n",
              "    progress {\n",
              "        /* gets rid of default border in Firefox and Opera. */\n",
              "        border: none;\n",
              "        /* Needs to be in here for Safari polyfill so background images work as expected. */\n",
              "        background-size: auto;\n",
              "    }\n",
              "    progress:not([value]), progress:not([value])::-webkit-progress-bar {\n",
              "        background: repeating-linear-gradient(45deg, #7e7e7e, #7e7e7e 10px, #5c5c5c 10px, #5c5c5c 20px);\n",
              "    }\n",
              "    .progress-bar-interrupted, .progress-bar-interrupted::-webkit-progress-bar {\n",
              "        background: #F44336;\n",
              "    }\n",
              "</style>\n"
            ]
          },
          "metadata": {}
        },
        {
          "output_type": "display_data",
          "data": {
            "text/plain": [
              "<IPython.core.display.HTML object>"
            ],
            "text/html": [
              "\n",
              "    <div>\n",
              "      <progress value='2000' class='' max='2000' style='width:300px; height:20px; vertical-align: middle;'></progress>\n",
              "      100.00% [2000/2000 00:25&lt;00:00 Sampling chain 0, 42 divergences]\n",
              "    </div>\n",
              "    "
            ]
          },
          "metadata": {}
        },
        {
          "output_type": "display_data",
          "data": {
            "text/plain": [
              "<IPython.core.display.HTML object>"
            ],
            "text/html": [
              "\n",
              "<style>\n",
              "    /* Turns off some styling */\n",
              "    progress {\n",
              "        /* gets rid of default border in Firefox and Opera. */\n",
              "        border: none;\n",
              "        /* Needs to be in here for Safari polyfill so background images work as expected. */\n",
              "        background-size: auto;\n",
              "    }\n",
              "    progress:not([value]), progress:not([value])::-webkit-progress-bar {\n",
              "        background: repeating-linear-gradient(45deg, #7e7e7e, #7e7e7e 10px, #5c5c5c 10px, #5c5c5c 20px);\n",
              "    }\n",
              "    .progress-bar-interrupted, .progress-bar-interrupted::-webkit-progress-bar {\n",
              "        background: #F44336;\n",
              "    }\n",
              "</style>\n"
            ]
          },
          "metadata": {}
        },
        {
          "output_type": "display_data",
          "data": {
            "text/plain": [
              "<IPython.core.display.HTML object>"
            ],
            "text/html": [
              "\n",
              "    <div>\n",
              "      <progress value='2000' class='' max='2000' style='width:300px; height:20px; vertical-align: middle;'></progress>\n",
              "      100.00% [2000/2000 00:38&lt;00:00 Sampling chain 1, 8 divergences]\n",
              "    </div>\n",
              "    "
            ]
          },
          "metadata": {}
        }
      ]
    },
    {
      "cell_type": "code",
      "source": [
        "# Calculate the bias against the prior hypothesis\n",
        "bias_against = idata.posterior[\"logRB_prior_pd\"].values.ravel() <= 0\n",
        "t = bias_against.shape[0]\n",
        "burn = 1000\n",
        "bias_against_mci = bias_against.cumsum() / np.arange(1, t+1)\n",
        "\n",
        "# Extract posterior samples for simulation\n",
        "beta_samples = idata.posterior['beta'][:, :, 0].values.ravel()[:1000]  # Use 1000 samples\n",
        "x_samples = idata.posterior['y_'].values  # Shape (chains, draws, n)\n",
        "\n",
        "# Compute log likelihoods for all samples at once\n",
        "marginal_likelihoods = normal_logp_np(x_samples[:, :, :, np.newaxis], beta_samples, 1).sum(axis=2)\n",
        "\n",
        "# Average the likelihoods over the samples\n",
        "log_marginal_likelihoods = np.log(np.exp(marginal_likelihoods).mean(axis=-1)).ravel()\n",
        "\n",
        "# Compute biases\n",
        "likelihood_prior_pd = idata.posterior['likelihood_prior_pd'].values.ravel()\n",
        "\n",
        "bias_against_ml = (likelihood_prior_pd - log_marginal_likelihoods) <= 0\n",
        "\n",
        "bias_against_ml_mci = bias_against_ml.cumsum() / np.arange(1, len(bias_against_ml) + 1)\n",
        "\n",
        "plt.plot(bias_against_mci[burn:], label='Bias Against (Analytical)')\n",
        "#plt.plot(bias_against_ml_mci[burn:], label='Bias Against (Simulation)')\n",
        "plt.title(\"Hypothesis: Bias Against n={}\".format(n))\n",
        "plt.legend()\n",
        "plt.show()"
      ],
      "metadata": {
        "colab": {
          "base_uri": "https://localhost:8080/",
          "height": 487
        },
        "id": "Y9uVUutheygb",
        "outputId": "b9780ec1-cb84-4c07-d17b-64fc5eb43d17"
      },
      "execution_count": 7,
      "outputs": [
        {
          "output_type": "stream",
          "name": "stderr",
          "text": [
            "<ipython-input-7-eeb0e686ae58>:15: RuntimeWarning: divide by zero encountered in log\n",
            "  log_marginal_likelihoods = np.log(np.exp(marginal_likelihoods).mean(axis=-1)).ravel()\n"
          ]
        },
        {
          "output_type": "display_data",
          "data": {
            "text/plain": [
              "<Figure size 640x480 with 1 Axes>"
            ],
            "image/png": "[encoded data removed]"
          },
          "metadata": {}
        }
      ]
    }
  ]
}