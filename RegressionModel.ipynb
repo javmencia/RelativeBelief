{
  "nbformat": 4,
  "nbformat_minor": 0,
  "metadata": {
    "colab": {
      "provenance": [],
      "authorship_tag": "ABX9TyOmYKSTQJe5YAw9vGT5DWWT",
      "include_colab_link": true
    },
    "kernelspec": {
      "name": "python3",
      "display_name": "Python 3"
    },
    "language_info": {
      "name": "python"
    }
  },
  "cells": [
    {
      "cell_type": "markdown",
      "metadata": {
        "id": "view-in-github",
        "colab_type": "text"
      },
      "source": [
        "<a href=\"https://colab.research.google.com/github/javmencia/RelativeBelief/blob/BiasCalculations/RegressionModel.ipynb\" target=\"_parent\"><img src=\"https://colab.research.google.com/assets/colab-badge.svg\" alt=\"Open In Colab\"/></a>"
      ]
    },
    {
      "cell_type": "code",
      "execution_count": null,
      "metadata": {
        "id": "2_MYYByQHc0Y"
      },
      "outputs": [],
      "source": [
        "import numpy as np\n",
        "import pymc as pm\n",
        "import arviz as az\n",
        "import matplotlib.pyplot as plt\n",
        "from scipy.ndimage import gaussian_filter1d\n",
        "from scipy.special import gammaln\n",
        "from scipy import stats\n",
        "import time\n",
        "import math"
      ]
    },
    {
      "cell_type": "code",
      "source": [
        "# For x\n",
        "mu_prior_mean = 0\n",
        "mu_prior_sigma = 1\n",
        "n=50\n",
        "mu_0 = 0\n",
        "\n",
        "\n",
        "p = 2\n",
        "\n",
        "# For beta\n",
        "\n",
        "beta_mu_0 = np.zeros((p, 1))\n",
        "beta_cov_0 = np.eye(p)\n",
        "\n",
        "# For sigma\n",
        "\n",
        "sigma_mu_0 = 1\n",
        "sigma_sigma_0 = 1\n",
        "\n",
        "y_0 = np.ones(2)\n",
        "with pm.Model() as m:\n",
        "\n",
        "    # Define hyperparameters for all\n",
        "\n",
        "    # For x\n",
        "    mu_ = pm.Normal('mu_', mu=mu_prior_mean, sigma=mu_prior_sigma, shape=1)\n",
        "    x_ = pm.Normal('x_', mu=mu_0, sigma=1, shape=n)\n",
        "\n",
        "    # For beta and sigma\n",
        "    beta = pm.MvNormal(\"beta\", mu = beta_mu_0, cov = beta_cov_0, shape = (p, 1))\n",
        "    sigma = pm.TruncatedNormal(\"sigma\", mu = sigma_mu_0, sigma = sigma_sigma_0, lower = 0)\n",
        "\n",
        "    y = pm.Normal('y', mu = pm.math.dot(x_, beta), sigma = sigma)\n",
        "\n",
        "    # Priors\n",
        "    prior_beta = pm.Deterministic(\"prior_beta\", pm.logp(pm.MvNormal.dist(mu = beta_mu_0, cov = beta_cov_0, shape = (p, 1)), beta_mu_0))\n",
        "    prior_sigma = pm.Deterministic(\"prior_sigma\", pm.logp(pm.TruncatedNormal.dist(mu = sigma_mu_0, sigma = sigma_sigma_0, lower = 0), sigma_mu_0 ) )\n",
        "    prior_y = pm.Deterministic(\"prior_y\", pm.logp(pm.Normal.dist(mu = pm.math.dot(x_, beta_mu_0), sigma = sigma_mu_0), y_0))\n",
        "\n",
        "    # Posteriors\n",
        "    posterior_y = pm.Deterministic(\"posterior_y\", pm.logp(pm.Normal.dist(mu = pm.math.dot(x_, beta), sigma = sigma), y_0))\n",
        "    \"\"\"\n",
        "    # prior predictive data density evaluations\n",
        "    prior_prior_pd = pm.Deterministic(\"prior_prior_pd\", normal_logp(mu_0,0,1))\n",
        "\n",
        "    posterior_var = 1/(1/mu_prior_sigma**2 + n/1)\n",
        "    posterior_mean = (mu_prior_mean/mu_prior_sigma**2 + x_.sum()/1)*posterior_var\n",
        "    posterior_prior_pd = pm.Deterministic(\"posterior_prior_pd\",\n",
        "                                          normal_logp(mu_0, posterior_mean, posterior_var**0.5))\n",
        "    logBR_prior_pd = pm.Deterministic(\"logBR_prior_pd\", posterior_prior_pd-prior_prior_pd) # pm.math.exp()\n",
        "\n",
        "    likelihood_prior_pd = pm.Deterministic(\"likelihood_prior_pd\", normal_logp(x_,mu_0,1).sum())\"\"\"\n",
        "\n",
        "with m:\n",
        "    idata = pm.sample(draws=1000)"
      ],
      "metadata": {
        "id": "dyznq_cdHeNy"
      },
      "execution_count": null,
      "outputs": []
    }
  ]
}